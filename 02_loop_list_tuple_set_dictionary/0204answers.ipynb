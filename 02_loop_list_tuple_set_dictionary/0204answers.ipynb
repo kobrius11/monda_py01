{
 "cells": [
  {
   "cell_type": "markdown",
   "metadata": {},
   "source": [
    "# Quick assignment answers"
   ]
  },
  {
   "cell_type": "code",
   "execution_count": null,
   "metadata": {},
   "outputs": [],
   "source": [
    "i = 0\n",
    "while i < 10:\n",
    "    print(i)\n",
    "    i += 1\n",
    "print(i)"
   ]
  },
  {
   "cell_type": "code",
   "execution_count": null,
   "metadata": {},
   "outputs": [],
   "source": [
    "while True:\n",
    "    number = int(input(\"number: \"))\n",
    "    if number <= 0:\n",
    "        print(\"number must be positive, please try again\")\n",
    "    elif number % 2 == 0:\n",
    "        print(\"Even!\")\n",
    "        break\n",
    "    elif number % 2 != 0:\n",
    "        print(\"Odd!\")\n",
    "        break "
   ]
  },
  {
   "cell_type": "code",
   "execution_count": null,
   "metadata": {},
   "outputs": [],
   "source": [
    "password = \"secret\"\n",
    "attempts = 3\n",
    "\n",
    "\n",
    "while attempts > 0:\n",
    "    answer = input(\"Enter password: \")\n",
    "    if answer == password:\n",
    "        print(\"Correct!\")\n",
    "        break\n",
    "    else: # elif answer != password:\n",
    "        print(f\"Incorrect! you have {attempts} more attempts\")\n",
    "        attempts -= 1\n",
    "else:\n",
    "    print(\"Sorry too many wrong attempts, try again later\")\n"
   ]
  },
  {
   "cell_type": "markdown",
   "metadata": {},
   "source": [
    "# Assignment answers"
   ]
  },
  {
   "cell_type": "code",
   "execution_count": null,
   "metadata": {},
   "outputs": [],
   "source": [
    "while True:\n",
    "    print(\"\"\"\n",
    "    Welcome to my calculator v0.01\n",
    "    Enter command:\n",
    "          add - add two numbers\n",
    "          subtract - subtract two numbers\n",
    "          multiply - multiply two numbers\n",
    "          divide - divide two numbers\n",
    "          exit - exits the program \n",
    "    \"\"\")\n",
    "    command = input(\"Enter command: \")\n",
    "    if command == \"exit\":\n",
    "        print(\"Goodbye :)\")\n",
    "        break\n",
    "\n",
    "    elif command == \"add\":\n",
    "        num_1 = float(input(\"Enter number1: \"))\n",
    "        num_2 = float(input(\"Enter number2: \"))\n",
    "        print(\"result is \", num_1 + num_2)\n",
    "\n",
    "    elif command == \"subtract\":\n",
    "        num_1 = float(input(\"Enter number1: \"))\n",
    "        num_2 = float(input(\"Enter number2: \"))\n",
    "        print(\"result is \", num_1 - num_2)\n",
    "    \n",
    "    elif command == \"multiply\":\n",
    "        num_1 = float(input(\"Enter number1: \"))\n",
    "        num_2 = float(input(\"Enter number2: \"))\n",
    "        print(\"result is \", num_1 * num_2)\n",
    "\n",
    "    elif command == \"divide\":\n",
    "        num_1 = float(input(\"Enter number1: \"))\n",
    "        num_2 = float(input(\"Enter number2: \"))\n",
    "        print(\"result is \", num_1 / num_2)\n",
    "\n",
    "    else:\n",
    "        print(\"Invalid command :(\")"
   ]
  }
 ],
 "metadata": {
  "language_info": {
   "name": "python"
  },
  "orig_nbformat": 4
 },
 "nbformat": 4,
 "nbformat_minor": 2
}
