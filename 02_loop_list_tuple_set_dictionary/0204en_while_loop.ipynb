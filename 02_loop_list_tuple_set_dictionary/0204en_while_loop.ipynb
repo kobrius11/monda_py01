{
 "cells": [
  {
   "cell_type": "markdown",
   "metadata": {},
   "source": [
    "# While loop\n",
    "\n",
    "### What is a `While loop`?\n",
    "A while loop in Python is like constantly asking is some condition is `True` ? If it is, do something `while` it's `True`. For example: \n",
    "-while glass is not full, pour water into glass, if it is full stop pouring water.\n",
    "-while phone battery is less than 100%, charge phone.\n",
    "-while counter is less than 100, add +1 to counter.\n",
    "\n",
    "\n",
    "### Why Do We Use `While loop`?\n",
    "For iterating until a condition is met, you can use a while loop to do something some number of times, or until some condition is met.\n",
    "For implementing user input, while loops often used to create interactive programs, that reapeatedly ask the user for input.\n",
    "For counting and accmulating, you might use a while loop to calculate the sum of numbers until a certain threshold is reached.\n"
   ]
  },
  {
   "cell_type": "code",
   "execution_count": null,
   "metadata": {},
   "outputs": [],
   "source": [
    "# Example: a simple loop that counts backwards from 10 to 1.\n",
    "number = 10\n",
    "# while number is more than zero. execute loops body\n",
    "while number > 0:\n",
    "    # this is loops body\n",
    "    print(number)\n",
    "    number -= 1\n",
    "# while number is less than or equal to zero. \n",
    "print(\"Lift off !!!\")"
   ]
  },
  {
   "cell_type": "code",
   "execution_count": null,
   "metadata": {},
   "outputs": [],
   "source": [
    "# Example: a simple loop that counts from 1 to 5\n",
    "number = 1\n",
    "while number <= 5:\n",
    "    print(number)\n",
    "    number = number + 1\n",
    "print(\"Done counting !\")"
   ]
  },
  {
   "cell_type": "markdown",
   "metadata": {},
   "source": [
    "## Infinite Loop\n",
    "\n",
    "While loops can become infinite (loop that never terminates), if condition is always `True`. This loop can negatively impact your programs performance, even freeze your computer, so you should always make sure your condition eventually becomes `False`.\n",
    "\n",
    "If however, you find yourself in the situation, where infite loop is running, you can terminate it manually by clicking `Ctrl + C`, in your terminal. "
   ]
  },
  {
   "cell_type": "code",
   "execution_count": null,
   "metadata": {},
   "outputs": [],
   "source": [
    "# Example: a loop that is running indefinetly\n",
    "\n",
    "while True:\n",
    "    print(\"I cant stop, becouse loop is always True!\")\n",
    "print(\"I cant execute, becouse program will never reach me!\")"
   ]
  },
  {
   "cell_type": "code",
   "execution_count": null,
   "metadata": {},
   "outputs": [],
   "source": [
    "# Example: another loop that is running indefinetly\n",
    "\n",
    "i = 10\n",
    "while i > 0:\n",
    "    print(i)\n",
    "    i += 1\n"
   ]
  },
  {
   "cell_type": "markdown",
   "metadata": {},
   "source": [
    "It's important to use while loops carefully to avoid creating infinite loops (loops that never terminate). You should ensure that the loop's condition eventually becomes false to prevent the program from running indefinitely. Typically, you'll need to update variables within the loop so that the condition changes over time and the loop eventually exits."
   ]
  },
  {
   "cell_type": "markdown",
   "metadata": {},
   "source": [
    "# `Quick Assignment 1: Fix my loop`\n",
    "\n",
    "#### Instructions:\n",
    "1. Read the loop below, try to understand what it is doing every step of the way.\n",
    "1. Find and fix the bug in this loop, lets say i want the loop to count to 10."
   ]
  },
  {
   "cell_type": "code",
   "execution_count": null,
   "metadata": {},
   "outputs": [],
   "source": [
    "i = 10\n",
    "while i > 0:\n",
    "    print(i)\n",
    "    i += 1\n",
    "print(i)"
   ]
  },
  {
   "cell_type": "markdown",
   "metadata": {},
   "source": [
    "# Loop termination with `break` statement\n",
    "\n",
    "The break statement is a control flow statement in Python that is used to exit or break out of a loop prematurely, before the loop's normal termination condition is met. When a break statement is encountered within a loop, the loop immediately terminates"
   ]
  },
  {
   "cell_type": "code",
   "execution_count": null,
   "metadata": {},
   "outputs": [],
   "source": [
    "# Example: a loop with break statement\n",
    "number = 0\n",
    "# While number is less than 10, execute loops body\n",
    "while number < 10:\n",
    "    number += 1\n",
    "    # if number is more or equal to five, break out of the loop\n",
    "    if number >= 5:\n",
    "        break\n",
    "    # if loop is not broken print number\n",
    "    print(number)"
   ]
  },
  {
   "cell_type": "markdown",
   "metadata": {},
   "source": [
    "❗ Remember that the `break` statement is only used in a loop, where it allows you to prematurely exit the loop's execution based on a specified condition, providing greater control over your program's flow and execution."
   ]
  },
  {
   "cell_type": "code",
   "execution_count": 1,
   "metadata": {},
   "outputs": [],
   "source": [
    "# Example: simple loop that asks user to enter command\n",
    "\n",
    "while True:\n",
    "    print(\"\"\"\n",
    "    Possible commands to enter: \n",
    "        exit - exits the program\"\"\")\n",
    "    command = input(\"Enter command: \")\n",
    "    \n",
    "    if command == 'exit':\n",
    "        print(\"Goodbye\")\n",
    "        break\n",
    "\n",
    "    print(\"Invalid command\")"
   ]
  },
  {
   "cell_type": "markdown",
   "metadata": {},
   "source": [
    "# `Quick Assignment 2: program that asks for a number`\n",
    "\n",
    "#### Instructions:\n",
    "\n",
    "1. Create a program that constantly asks user for a number.\n",
    "1. If number is even, print(\"Even!\") and break.\n",
    "1. If number is odd, print(\"Odd!\") and break.\n",
    "1. If number less than or equal to 0, Print that number is invalid and specify for the user conditions that must be met.\n",
    "\n",
    "#### hints\n",
    "- Use if, elif statements.\n",
    "- Convert result of input function to a number.\n",
    "- Use some kind of math operator to check if number is odd or even.\n",
    "- Check if number statisfies some condition first, then check if number is odd or even."
   ]
  },
  {
   "cell_type": "markdown",
   "metadata": {},
   "source": [
    "# Skip loop cycle using `continue` statement\n",
    "\n",
    "The continue statement is another control flow statement in Python that is used within loops to skip the rest of the current iteration (cycle) of the loop and move on to the next iteration. In simpler terms, it allows you to skip over certain parts of a loop when a particular condition is met."
   ]
  },
  {
   "cell_type": "code",
   "execution_count": null,
   "metadata": {},
   "outputs": [],
   "source": [
    "# Example: loop with continue statement\n",
    "\n",
    "number = 0\n",
    "while number < 10:\n",
    "    number += 1\n",
    "    # if number is 5 skip this cycle.\n",
    "    if number == 5:\n",
    "        continue\n",
    "    print(number)"
   ]
  },
  {
   "cell_type": "markdown",
   "metadata": {},
   "source": [
    "# `while` loop with `else` statement\n",
    "\n",
    "While loops in python can be used with else statement to execute some code when condition is False."
   ]
  },
  {
   "cell_type": "code",
   "execution_count": null,
   "metadata": {},
   "outputs": [],
   "source": [
    "# Example: while loop with else statement\n",
    "\n",
    "number = 0\n",
    "# if number is less than 5, execute loops body\n",
    "while number < 5:\n",
    "    print(number)\n",
    "    number += 1\n",
    "# if number is more or equal to 5, execute else body\n",
    "else:\n",
    "    print(\"end of the loop\")"
   ]
  },
  {
   "cell_type": "markdown",
   "metadata": {},
   "source": [
    "❗ Important to note that `else` statement can be used only when loop end naturally, and can not be used when loop was ended with `break` statement."
   ]
  },
  {
   "cell_type": "markdown",
   "metadata": {},
   "source": [
    "# `Quick Assignment 3: Write a password authentification program`\n",
    "\n",
    "#### Instructions:\n",
    "\n",
    "1. Create some kind of password(string), and store it into a variable.\n",
    "1. Create variable attempts and set it equal to 3.\n",
    "1. Create a program that constantly asks user for a string(Text).\n",
    "1. If input is not equal to password variable, Print(\"Wrong password, try again\"), decrement the attempts variable.\n",
    "1. If input is equal to password, print(\"access granted\"), and break.\n",
    "1. If user fails verification three times, exit a loop with print(\"Access denied. Too many unsuccesful attempts.\")\n",
    "\n",
    "#### Hints\n",
    "- Use if, else statements."
   ]
  },
  {
   "cell_type": "markdown",
   "metadata": {},
   "source": [
    "# Assignment 1: Write a calculator program that can add, subtract, multiply, divide\n",
    "\n",
    "#### Instructions:\n",
    "\n",
    "1. Create a program that constantly asks user for a command input (String).\n",
    "1. If input is \"add\" or \"subtract\" or \"multiply\", or \"divide\", then ask for two more number inputs and print the appropriate answer.\n",
    "1. If user inputs invalid command, let the user know.\n",
    "1. If input is \"exit\" then break out of the loop, dont forget to say goodbye.\n",
    "\n",
    "Hints\n",
    "- Use if, elif, else statements.\n",
    "- Convert number values to a float rather than int.\n",
    "- Use while True."
   ]
  }
 ],
 "metadata": {
  "kernelspec": {
   "display_name": "Python 3",
   "language": "python",
   "name": "python3"
  },
  "language_info": {
   "codemirror_mode": {
    "name": "ipython",
    "version": 3
   },
   "file_extension": ".py",
   "mimetype": "text/x-python",
   "name": "python",
   "nbconvert_exporter": "python",
   "pygments_lexer": "ipython3",
   "version": "3.10.6"
  },
  "orig_nbformat": 4
 },
 "nbformat": 4,
 "nbformat_minor": 2
}
