{
 "cells": [
  {
   "cell_type": "markdown",
   "metadata": {},
   "source": [
    "# Sets\n",
    "\n",
    "Sets are collection-type objects that differ from lists and tuples in that they only store unique elements. This means that if you try to add an element that already exists in a set, it will not be added to the set, and it will not be displayed multiple times. Lists and tuples can store duplicate elements, unlike sets, and they preserve the order of elements. Another important difference is that sets do not use indexes, so the order of their elements is not specified.\n",
    "\n",
    "### Set declaration\n",
    "\n",
    "`mySet = {item, item, item}` - assigns set object to a variable(mySet).\n",
    "\n",
    "`set(param: iterable)` - returns set object, takes in one parameter iterable i.e list, string, tuple, set ..."
   ]
  },
  {
   "cell_type": "markdown",
   "metadata": {},
   "source": [
    "### Set methods\n",
    "\n",
    "`add(param: value)` - adds value to a set:"
   ]
  },
  {
   "cell_type": "code",
   "execution_count": null,
   "metadata": {},
   "outputs": [],
   "source": [
    "set1 = {1, 2, 3}\n",
    "\n",
    "set1.add(4)\n",
    "print(set1) # {1, 2, 3, 4}"
   ]
  },
  {
   "cell_type": "markdown",
   "metadata": {},
   "source": [
    "`update(param: iterable)` - method updates the current set, by adding items from another set (or any other iterable)."
   ]
  },
  {
   "cell_type": "code",
   "execution_count": null,
   "metadata": {},
   "outputs": [],
   "source": [
    "set1 = {1, 2, 3}\n",
    "list2 = ['banana', 'apple', 25]\n",
    "\n",
    "set1.update(list2)\n",
    "print(set1) # {1, 2, 3, 25, 'banana', 'apple'}"
   ]
  },
  {
   "cell_type": "markdown",
   "metadata": {},
   "source": [
    "`remove(param: value)` - method removes the specified value from the set. Will raise an error if value doesn't exist."
   ]
  },
  {
   "cell_type": "code",
   "execution_count": 85,
   "metadata": {},
   "outputs": [
    {
     "ename": "KeyError",
     "evalue": "4",
     "output_type": "error",
     "traceback": [
      "\u001b[0;31m---------------------------------------------------------------------------\u001b[0m",
      "\u001b[0;31mKeyError\u001b[0m                                  Traceback (most recent call last)",
      "\u001b[1;32m/home/user/monda_py01/02_loop_list_tuple_set_dictionary/0206en_sets.ipynb Cell 7\u001b[0m line \u001b[0;36m3\n\u001b[1;32m      <a href='vscode-notebook-cell://wsl%2Bubuntu/home/user/monda_py01/02_loop_list_tuple_set_dictionary/0206en_sets.ipynb#W6sdnNjb2RlLXJlbW90ZQ%3D%3D?line=0'>1</a>\u001b[0m set1 \u001b[39m=\u001b[39m {\u001b[39m1\u001b[39m, \u001b[39m2\u001b[39m, \u001b[39m3\u001b[39m}\n\u001b[0;32m----> <a href='vscode-notebook-cell://wsl%2Bubuntu/home/user/monda_py01/02_loop_list_tuple_set_dictionary/0206en_sets.ipynb#W6sdnNjb2RlLXJlbW90ZQ%3D%3D?line=2'>3</a>\u001b[0m set1\u001b[39m.\u001b[39;49mremove(\u001b[39m4\u001b[39;49m)\n\u001b[1;32m      <a href='vscode-notebook-cell://wsl%2Bubuntu/home/user/monda_py01/02_loop_list_tuple_set_dictionary/0206en_sets.ipynb#W6sdnNjb2RlLXJlbW90ZQ%3D%3D?line=3'>4</a>\u001b[0m \u001b[39mprint\u001b[39m(set1) \u001b[39m# KeyError: 4\u001b[39;00m\n",
      "\u001b[0;31mKeyError\u001b[0m: 4"
     ]
    }
   ],
   "source": [
    "set1 = {1, 2, 3}\n",
    "\n",
    "set1.remove(4)\n",
    "print(set1) # KeyError: 4"
   ]
  },
  {
   "cell_type": "code",
   "execution_count": 86,
   "metadata": {},
   "outputs": [
    {
     "name": "stdout",
     "output_type": "stream",
     "text": [
      "{1, 3}\n"
     ]
    }
   ],
   "source": [
    "set1 = {1, 2, 3}\n",
    "\n",
    "set1.remove(2)\n",
    "print(set1) # {1, 3}"
   ]
  },
  {
   "cell_type": "markdown",
   "metadata": {},
   "source": [
    "`discard(param: value)`- method removes the specified item from the set. Will not raise an error if value doesn't exist."
   ]
  },
  {
   "cell_type": "code",
   "execution_count": 87,
   "metadata": {},
   "outputs": [
    {
     "name": "stdout",
     "output_type": "stream",
     "text": [
      "{1, 2, 3}\n"
     ]
    }
   ],
   "source": [
    "set1 = {1, 2, 3}\n",
    "\n",
    "set1.discard(4)\n",
    "print(set1) # {1, 2, 3}"
   ]
  },
  {
   "cell_type": "code",
   "execution_count": 88,
   "metadata": {},
   "outputs": [
    {
     "name": "stdout",
     "output_type": "stream",
     "text": [
      "{1, 3}\n"
     ]
    }
   ],
   "source": [
    "set1 = {1, 2, 3}\n",
    "\n",
    "set1.discard(2)\n",
    "print(set1) # {1, 3}"
   ]
  },
  {
   "cell_type": "markdown",
   "metadata": {},
   "source": [
    "`pop()` - does not take any parameters, removes random value from set, and returns it."
   ]
  },
  {
   "cell_type": "code",
   "execution_count": 89,
   "metadata": {},
   "outputs": [
    {
     "name": "stdout",
     "output_type": "stream",
     "text": [
      "{2, 3}\n",
      "1\n"
     ]
    }
   ],
   "source": [
    "set1 = {1, 2, 3}\n",
    "\n",
    "popped = set1.pop()\n",
    "print(set1) # {2, 3}\n",
    "print(popped) # 1"
   ]
  },
  {
   "cell_type": "markdown",
   "metadata": {},
   "source": [
    "`clear()` - does not take any parameters, removes all values in a set."
   ]
  },
  {
   "cell_type": "code",
   "execution_count": 90,
   "metadata": {},
   "outputs": [
    {
     "name": "stdout",
     "output_type": "stream",
     "text": [
      "set()\n"
     ]
    }
   ],
   "source": [
    "set1 = {1, 2, 3}\n",
    "set1.clear()\n",
    "print(set1) # set()"
   ]
  },
  {
   "cell_type": "markdown",
   "metadata": {},
   "source": [
    "`copy()` - does not take any parameters, copies the set."
   ]
  },
  {
   "cell_type": "code",
   "execution_count": 91,
   "metadata": {},
   "outputs": [
    {
     "name": "stdout",
     "output_type": "stream",
     "text": [
      "{1, 2, 3}\n"
     ]
    }
   ],
   "source": [
    "set1 = {1, 2, 3}\n",
    "copy = set1.copy()\n",
    "print(copy) # {1, 2, 3}"
   ]
  },
  {
   "cell_type": "markdown",
   "metadata": {},
   "source": [
    "`union(params: set1, set2, ...)` - returns a set that contains all items from the original set, and all items from the specified set(s)."
   ]
  },
  {
   "cell_type": "code",
   "execution_count": 1,
   "metadata": {},
   "outputs": [
    {
     "name": "stdout",
     "output_type": "stream",
     "text": [
      "{1, 2, 3, 4, 5, 6, 'one', 7, 8, 'three'}\n",
      "{1, 2, 3, 4, 5, 6, 'one', 7, 8, 'three'}\n"
     ]
    }
   ],
   "source": [
    "set1 = {\"one\", 2, 3, 5, 6}\n",
    "set2 = {1, 2, \"three\", 4, 7, 8}\n",
    "\n",
    "\n",
    "set3 = set1.union(set2)\n",
    "print(set3) # {1, 2, 3, 4, 5, 6, 'one', 7, 8, 'three'} since it combines all values present in sets\n",
    "\n",
    "print(set1 | set2) # this is equivelent to set1.union(set2)"
   ]
  },
  {
   "cell_type": "markdown",
   "metadata": {},
   "source": [
    "`intersection(params: set1, set2, ...)` - method returns a set that contains the similarity between two or more sets.\n"
   ]
  },
  {
   "cell_type": "code",
   "execution_count": 3,
   "metadata": {},
   "outputs": [
    {
     "name": "stdout",
     "output_type": "stream",
     "text": [
      "{1, 2, 3, 'apple'}\n",
      "{1, 2, 3, 'apple'}\n"
     ]
    }
   ],
   "source": [
    "set1 = {1, 2, 3, 5, 6, \"apple\"}\n",
    "set2 = {1, 2, 3, 4, 7, 8, \"apple\"}\n",
    "\n",
    "\n",
    "set3 = set1.intersection(set2)\n",
    "print(set3) # {1, 2, 3, 'apple'} since {1, 2, 3, 'apple'} are in both sets\n",
    "\n",
    "\n",
    "print(set1 & set2) # this is equivelent to set1.intersection(set2)"
   ]
  },
  {
   "cell_type": "markdown",
   "metadata": {},
   "source": [
    "`difference(param: set1)` - method returns a set that contains the difference between two sets."
   ]
  },
  {
   "cell_type": "code",
   "execution_count": 5,
   "metadata": {},
   "outputs": [
    {
     "name": "stdout",
     "output_type": "stream",
     "text": [
      "{5, 6}\n",
      "{5, 6}\n"
     ]
    }
   ],
   "source": [
    "set1 = {1, 2, 3, 5, 6}\n",
    "set2 = {1, 2, 3, 4, 7, 8}\n",
    "set3 = set1.difference(set2)\n",
    "print(set3) # {5, 6} since it checks how set1 is different from set2\n",
    "\n",
    "print(set1 - set2) # is the same operation"
   ]
  },
  {
   "cell_type": "markdown",
   "metadata": {},
   "source": [
    "`symmetric_difference(param: set1)` - method returns a set that contains all items from both set, but not the items that are present in both sets."
   ]
  },
  {
   "cell_type": "code",
   "execution_count": 7,
   "metadata": {},
   "outputs": [
    {
     "name": "stdout",
     "output_type": "stream",
     "text": [
      "{4, 5, 6, 7, 8}\n",
      "{4, 5, 6, 7, 8}\n"
     ]
    }
   ],
   "source": [
    "set1 = {1, 2, 3, 5, 6}\n",
    "set2 = {1, 2, 3, 4, 7, 8}\n",
    "set3 = set1.symmetric_difference(set2)\n",
    "print(set3) # {4, 5, 6, 7, 8} since {1, 2, 3} are in both sets\n",
    "\n",
    "print(set1 ^ set2) # is the same"
   ]
  },
  {
   "cell_type": "markdown",
   "metadata": {},
   "source": [
    "### Set operators\n",
    "\n",
    "1. `set1 | set2`: union\n",
    "1. `set1 & set2`: intersection\n",
    "1. `set1 − set2`: difference\n",
    "1. `set1 ^ set2`: symmetric_difference\n",
    "\n",
    "#### Also\n",
    "\n",
    "1. `s1 == s2` is s1 equal to s2 ? returns bool: True or False\n",
    "1. `s1 != s2` is s1 not equal to s2 ? returns bool: True or False\n",
    "\n",
    "1. `s1 <= s2`  :  s1 is subset of s2. i.e. all elements of s1 are in s2, returns True if s1 is a subset of s2.\n",
    "1. `s1 >= s2`  : s1 is subset of s2. i.e. all elements of s2 are in s1, returns True if s1 is a subset of s2."
   ]
  },
  {
   "cell_type": "code",
   "execution_count": 98,
   "metadata": {},
   "outputs": [
    {
     "name": "stdout",
     "output_type": "stream",
     "text": [
      "False\n",
      "True\n"
     ]
    }
   ],
   "source": [
    "set1 = {1, 2, 3, 5, 6}\n",
    "set2 = {1, 2, 3, 4, 7, 8}\n",
    "\n",
    "print(set1 == set2) # False since sets are not equal\n",
    "\n",
    "set1 = {1, 2, 3, 5, 6}\n",
    "set2 = {1, 2, 3, 5, 6}\n",
    "\n",
    "print(set1 == set2) # True since sets are equal"
   ]
  },
  {
   "cell_type": "code",
   "execution_count": 99,
   "metadata": {},
   "outputs": [
    {
     "name": "stdout",
     "output_type": "stream",
     "text": [
      "True\n",
      "False\n"
     ]
    }
   ],
   "source": [
    "set1 = {1, 2, 3, 5, 6}\n",
    "set2 = {1, 2, 3, 4, 7, 8}\n",
    "\n",
    "print(set1 != set2) # True since sets not are equal\n",
    "\n",
    "set1 = {1, 2, 3, 5, 6}\n",
    "set2 = {1, 2, 3, 5, 6}\n",
    "\n",
    "print(set1 != set2) # False since sets are equal"
   ]
  },
  {
   "cell_type": "code",
   "execution_count": 8,
   "metadata": {},
   "outputs": [
    {
     "name": "stdout",
     "output_type": "stream",
     "text": [
      "True\n",
      "False\n"
     ]
    }
   ],
   "source": [
    "set1 = {1, 2, 3}\n",
    "set2 = {1, 2, 3, 4, 7, 8}\n",
    "\n",
    "print(set1 <= set2) # True since set1 is a subset of set2, since {1, 2, 3} is in {1, 2, 3, 4, 7, 8}\n",
    "\n",
    "print(set1 >= set2) # False since set2 is not a subset of set1, since {1, 2, 3, 4, 7, 8} is not in {1, 2, 3}\n"
   ]
  },
  {
   "cell_type": "markdown",
   "metadata": {},
   "source": [
    "### Set iteration\n",
    "\n",
    "you can iterate throught sets using loops:"
   ]
  },
  {
   "cell_type": "code",
   "execution_count": 9,
   "metadata": {},
   "outputs": [
    {
     "name": "stdout",
     "output_type": "stream",
     "text": [
      "1\n",
      "2\n",
      "3\n"
     ]
    }
   ],
   "source": [
    "x = {1, 2, 3}\n",
    "\n",
    "for value in x:\n",
    "    print(value)"
   ]
  },
  {
   "cell_type": "markdown",
   "metadata": {},
   "source": [
    "### Sets manipulation\n",
    "\n",
    "You can also turn sets into other `data structures`, like lists, tuples, and vice versa:"
   ]
  },
  {
   "cell_type": "code",
   "execution_count": 15,
   "metadata": {},
   "outputs": [
    {
     "name": "stdout",
     "output_type": "stream",
     "text": [
      "mySet as list:  [1, 2, 3] <class 'list'>\n",
      "mySet as tuple:  (1, 2, 3) <class 'tuple'>\n",
      "myList as set:  {1, 2, 3} <class 'set'>\n",
      "myTuple as set:  {1, 2, 3} <class 'set'>\n"
     ]
    }
   ],
   "source": [
    "mySet = {1, 2, 3}\n",
    "\n",
    "print(\"mySet as list: \", list(mySet), type(list(mySet))) # [1, 2, 3] <class 'list'>\n",
    "print(\"mySet as tuple: \", tuple(mySet), type(tuple(mySet))) # (1, 2, 3) <class 'tuple'>\n",
    "\n",
    "# as i can convert set into list, so i can convert list into set.\n",
    "myList = [1, 2, 3]\n",
    "myTuple = (1, 2, 3)\n",
    "\n",
    "print(\"myList as set: \", set(myList), type(set(myList)))\n",
    "print(\"myTuple as set: \", set(myTuple), type(set(myTuple)))"
   ]
  },
  {
   "cell_type": "markdown",
   "metadata": {},
   "source": [
    "# `Quick assignement 1`\n",
    "\n",
    "#### Instructions\n",
    "\n",
    "1. Create a set with numbers in it.\n",
    "1. add some number to a set.\n",
    "1. print out set with new number added."
   ]
  },
  {
   "cell_type": "markdown",
   "metadata": {},
   "source": [
    "# `Quick assignement 2`\n",
    "\n",
    "#### Instructions\n",
    "\n",
    "1. Create a set with numbers in it.\n",
    "1. delete some number from set.\n",
    "1. print out set without deleted number."
   ]
  },
  {
   "cell_type": "markdown",
   "metadata": {},
   "source": [
    "# `Quick assignement 3`\n",
    "\n",
    "#### Instructions\n",
    "\n",
    "1. Create a set, from two sets(created in past exercises) with elements that are common between two sets.\n",
    "1. print out set."
   ]
  },
  {
   "cell_type": "markdown",
   "metadata": {},
   "source": [
    "# `Quick assignement 4`\n",
    "\n",
    "#### Instructions\n",
    "\n",
    "1. Create a set, from two sets(created in first two exercises) with elements that are in first set but not in second set.\n",
    "1. print out set."
   ]
  },
  {
   "cell_type": "markdown",
   "metadata": {},
   "source": [
    "# `Quick assignement 5`\n",
    "\n",
    "#### Instructions\n",
    "\n",
    "1. Create a set, from two sets(created in past exercises) with elements that are in the second set but not in first set.\n",
    "1. print out set."
   ]
  },
  {
   "cell_type": "markdown",
   "metadata": {},
   "source": [
    "# Bonus\n",
    "\n",
    "1. Square all numbers in last set"
   ]
  },
  {
   "cell_type": "markdown",
   "metadata": {},
   "source": [
    "### more on sets:\n",
    "\n",
    "- [Why are sets like this](https://www.youtube.com/watch?v=Gp-qih4T9tA), \n",
    "- All [Set methods](https://www.w3schools.com/python/python_sets_methods.asp)\n",
    "- Official [Python Reference](https://docs.python.org/3/tutorial/datastructures.html#sets). Even if not the easiest to understand for you right away, will prove essential in the future."
   ]
  }
 ],
 "metadata": {
  "kernelspec": {
   "display_name": "venv",
   "language": "python",
   "name": "python3"
  },
  "language_info": {
   "codemirror_mode": {
    "name": "ipython",
    "version": 3
   },
   "file_extension": ".py",
   "mimetype": "text/x-python",
   "name": "python",
   "nbconvert_exporter": "python",
   "pygments_lexer": "ipython3",
   "version": "3.10.6"
  },
  "orig_nbformat": 4
 },
 "nbformat": 4,
 "nbformat_minor": 2
}
