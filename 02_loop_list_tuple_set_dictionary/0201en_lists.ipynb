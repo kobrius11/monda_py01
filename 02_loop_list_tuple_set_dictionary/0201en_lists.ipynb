{
 "cells": [
  {
   "cell_type": "markdown",
   "metadata": {},
   "source": [
    "# List\n",
    "\n",
    "### What is a `List`?\n",
    "A list in Python is like a container where you can put multiple things (items) all in one place. Imagine it as a shopping bag that can hold different types of fruits.\n",
    "\n",
    "### Why Do We Use Lists?\n",
    "We use lists when we want to keep several things together. In Python, there are four main ways to do this: `Lists, Tuples, Sets, and Dictionaries`. Each has its own special way of holding things.\n",
    "\n",
    "`Example:`\n",
    "Imagine you want to keep a list of fruits. You can use a list in Python to do that, just like this:"
   ]
  },
  {
   "cell_type": "code",
   "execution_count": null,
   "metadata": {},
   "outputs": [],
   "source": [
    "fruits = [\"apple\", \"banana\", \"cherry\"]\n",
    "print(fruits)"
   ]
  },
  {
   "cell_type": "markdown",
   "metadata": {},
   "source": [
    "Now, fruits is like your bag, and it holds these three fruits: apple, banana, and cherry.\n",
    "\n",
    "In a nutshell, a list is like a container where you can store a bunch of things together, and it's one of the four main ways to do that in Python."
   ]
  },
  {
   "cell_type": "markdown",
   "metadata": {},
   "source": [
    "## Creating Lists\n",
    "In Python, you can make lists using square brackets `[ ]`. Lists are like containers where you put things. You separate the things inside the list with commas.\n",
    "\n",
    "`Examples:`"
   ]
  },
  {
   "cell_type": "code",
   "execution_count": null,
   "metadata": {},
   "outputs": [],
   "source": [
    "#An empty list:\n",
    "empty_list = []\n",
    "\n",
    "#A list of numbers:\n",
    "number_list = [1, 2, 3, 4, 5]\n",
    "\n",
    "# A list of words:\n",
    "word_list = ['apple', 'pear', 'banana']\n",
    "\n",
    "#A list with different types of things:\n",
    "mixed_list = ['apple', 2, 1.4, 'pear', True, 'banana']"
   ]
  },
  {
   "cell_type": "markdown",
   "metadata": {},
   "source": [
    "You can also create a list using the list() function like this:"
   ]
  },
  {
   "cell_type": "code",
   "execution_count": null,
   "metadata": {},
   "outputs": [],
   "source": [
    "empty_list = list()"
   ]
  },
  {
   "cell_type": "markdown",
   "metadata": {},
   "source": [
    "In a nutshell, a list in Python is like a container where you put things, and you use square brackets to make one. You can put different types of things in a list."
   ]
  },
  {
   "cell_type": "markdown",
   "metadata": {},
   "source": [
    "# `Quick Assignment 1: Create a List`\n",
    "\n",
    "#### Instructions:\n",
    "1. Make a list of at least five names of your favorite foods.\n",
    "1. Print the entire list."
   ]
  },
  {
   "cell_type": "code",
   "execution_count": null,
   "metadata": {},
   "outputs": [],
   "source": []
  },
  {
   "cell_type": "markdown",
   "metadata": {},
   "source": [
    "# Indexing Lists\n",
    "In Python, lists are like numbered boxes, and we start counting from zero. To get something from a list, we use the box number, which is called an index, inside square brackets [ ]."
   ]
  },
  {
   "cell_type": "markdown",
   "metadata": {},
   "source": [
    "`Examples:`\n",
    "Let's say we have a list of fruits like this:"
   ]
  },
  {
   "cell_type": "code",
   "execution_count": null,
   "metadata": {},
   "outputs": [],
   "source": [
    "fruits = ['apple', 'pear', 'banana']\n",
    "\n",
    "# If we want to get the first fruit, which is 'apple', we use the index 0 because it's the first box:\n",
    "print(fruits[0])  # This will print 'apple'\n",
    "\n",
    "# If we want the second fruit, 'pear', we use the index 1 because it's the second box:\n",
    "print(fruits[1])  # This will print 'pear'\n",
    "\n",
    "# And for the third fruit, 'banana', we use index 2 because it's in the third box:\n",
    "print(fruits[2])  # This will print 'banana'"
   ]
  },
  {
   "cell_type": "markdown",
   "metadata": {},
   "source": [
    "You can also count from the end of the list using negative indexes. So, if you want the last fruit, which is 'banana', you can use -1 because it's the last box:"
   ]
  },
  {
   "cell_type": "code",
   "execution_count": null,
   "metadata": {},
   "outputs": [],
   "source": [
    "print(fruits[-1])  # This will print 'banana'\n",
    "\n",
    "#For the second-to-last fruit, 'pear', you use -2 because it's in the second-to-last box:\n",
    "print(fruits[-2])  # This will print 'pear'\n",
    "\n",
    "#And for the first fruit, 'apple', you use -3 because it's in the third-to-last box:\n",
    "print(fruits[-3])  # This will print 'apple'\n"
   ]
  },
  {
   "cell_type": "markdown",
   "metadata": {},
   "source": [
    "Remember, when using negative indexes, -1 always refers to the last item in the list."
   ]
  },
  {
   "cell_type": "markdown",
   "metadata": {},
   "source": [
    "# `Quick Assignment 2: Fruits Indexing`\n",
    "\n",
    "#### Instructions:\n",
    "\n",
    "1. Create a Python list named fruits that contains at least five different fruit names.\n",
    "1. Print out the second fruit in the list using indexing.\n",
    "1. Print out the last fruit in the list using negative indexing.\n",
    "1. Print out the third and fourth fruits in the list using positive indexing.\n",
    "\n",
    "Hints:\n",
    "- Use square brackets and indexes to access the elements in the list.\n",
    "- Remember that indexing starts from zero, and negative indexing counts from the end of the list."
   ]
  },
  {
   "cell_type": "code",
   "execution_count": null,
   "metadata": {},
   "outputs": [],
   "source": []
  },
  {
   "cell_type": "markdown",
   "metadata": {},
   "source": [
    "# Slicing Lists\n",
    "\n",
    "In Python, you can cut or slice a list to get only a part of it. To do this, you use the `:` symbol. You can specify a starting index and an ending index inside square brackets.\n",
    "\n",
    "`Examples:`\n"
   ]
  },
  {
   "cell_type": "code",
   "execution_count": null,
   "metadata": {},
   "outputs": [],
   "source": [
    "# 1. If you have a list of fruits like this:\n",
    "fruits = ['apple', 'pear', 'banana', 'orange', 'persimmon']\n",
    "\n",
    "# To get the first three fruits, you can use slicing like this:\n",
    "print(fruits[:3])  # This will print ['apple', 'pear', 'banana']\n",
    "\n",
    "# 2. To get the fruits starting from the third one to the end, you can use this:\n",
    "print(fruits[2:])  # This will print ['banana', 'orange', 'persimmon']\n",
    "\n",
    "# 3. If you want the second, third, and fourth fruits, you can specify both the starting and ending indexes like this:\n",
    "print(fruits[1:4])  # This will print ['pear', 'banana', 'orange']\n",
    "\n",
    "# 4. You can also use negative indexes to start counting from the end. For example, to get the last three fruits:\n",
    "print(fruits[-3:])  # This will print ['banana', 'orange', 'persimmon']\n",
    "\n",
    "# Additionally, you can specify a third argument, which is called the step size. It tells Python how many items to skip between selected elements. In this case, the step size is 2, so it skips every second element, starting from the starting index:\n",
    "print(fruits[::2])  # This will print ['apple', 'banana', 'persimmon']\n",
    "\n",
    "# So, slicing allows you to get specific parts of a list by specifying the start, end, and step size. It's like cutting a cake into slices!"
   ]
  },
  {
   "cell_type": "markdown",
   "metadata": {},
   "source": [
    "# Changing List Elements\n",
    "In Python, you can change the items in a `list` by assigning a new value to a specific index. Let's see some examples:\n",
    "\n",
    "`Example 1:`\n",
    "Suppose you have a list of fruits like this:"
   ]
  },
  {
   "cell_type": "code",
   "execution_count": null,
   "metadata": {},
   "outputs": [],
   "source": [
    "fruits = ['apple', 'pear', 'banana']"
   ]
  },
  {
   "cell_type": "markdown",
   "metadata": {},
   "source": [
    "If you want to change the second fruit 'pear' to 'avocado', you can do it like this:"
   ]
  },
  {
   "cell_type": "code",
   "execution_count": null,
   "metadata": {},
   "outputs": [],
   "source": [
    "fruits[1] = 'avocado'\n",
    "print(fruits)  # This will print ['apple', 'avocado', 'banana']\n"
   ]
  },
  {
   "cell_type": "markdown",
   "metadata": {},
   "source": [
    "You simply use the index `[1]` to access the second item and assign it the new value 'avocado'.\n",
    "\n",
    "`Example 2:`\n",
    "You can also change more than one element at a time using slicing. For instance, consider the following list of fruits:"
   ]
  },
  {
   "cell_type": "code",
   "execution_count": null,
   "metadata": {},
   "outputs": [],
   "source": [
    "fruits = ['apple', 'pear', 'banana', 'orange', 'persimmon']"
   ]
  },
  {
   "cell_type": "markdown",
   "metadata": {},
   "source": [
    "If you want to replace `'pear'`, `'banana'`, and `'orange'` with `'pineapple'` and `'mango'`, you can do it like this:"
   ]
  },
  {
   "cell_type": "code",
   "execution_count": null,
   "metadata": {},
   "outputs": [],
   "source": [
    "fruits[1:4] = ['pineapple', 'mango']\n",
    "print(fruits)  # This will print ['apple', 'pineapple', 'mango', 'persimmon']\n"
   ]
  },
  {
   "cell_type": "markdown",
   "metadata": {},
   "source": [
    "In this case, you use a slice `[1:4]` to select the elements to be changed and assign a new list `['pineapple', 'mango']` to that slice.\n",
    "So, changing list elements in Python is as simple as accessing the item you want to change by its index and assigning a new value to it. \n",
    "You can also change multiple elements at once using slicing."
   ]
  },
  {
   "cell_type": "markdown",
   "metadata": {},
   "source": [
    "# `Quick Assignment 3: Slicing and Changing Lists`\n",
    "Instructions:\n",
    "1. Print the first three elements of the list.\n",
    "1. Print the last two elements of the list.\n",
    "1. Print three elements from the middle of the list.\n",
    "1. Print every second element of the list.\n",
    "\n",
    "Hints:\n",
    "- To print the first three elements, you can use list slicing with [:3].\n",
    "- For the last two elements, you can use negative indices like [-2:].\n",
    "- To print three elements from the middle, find the middle index and use slicing.\n",
    "- Printing every second element can be done with slicing using [::2]."
   ]
  },
  {
   "cell_type": "code",
   "execution_count": null,
   "metadata": {},
   "outputs": [],
   "source": [
    "# List of fruits\n",
    "fruits = ['apple', 'pear', 'banana', 'orange', 'persimmon']\n",
    "\n",
    "# Your code here\n"
   ]
  },
  {
   "cell_type": "markdown",
   "metadata": {},
   "source": [
    "# List Methods in Python"
   ]
  },
  {
   "cell_type": "markdown",
   "metadata": {},
   "source": [
    "##### 1. append()\n",
    "The `append()` method is used to add an element to the end of a list. It's a straightforward way to expand a list with a single item."
   ]
  },
  {
   "cell_type": "code",
   "execution_count": null,
   "metadata": {},
   "outputs": [],
   "source": [
    "my_list = [1, 2, 3]\n",
    "my_list.append(4)\n",
    "# Now my_list is [1, 2, 3, 4]"
   ]
  },
  {
   "cell_type": "markdown",
   "metadata": {},
   "source": [
    "##### 2. extend()\n",
    "The `extend()` method is used to append elements from an iterable (usually another list) to the end of the current list."
   ]
  },
  {
   "cell_type": "code",
   "execution_count": null,
   "metadata": {},
   "outputs": [],
   "source": [
    "my_list = [1, 2, 3]\n",
    "another_list = [4, 5, 6]\n",
    "my_list.extend(another_list)\n",
    "# Now my_list is [1, 2, 3, 4, 5, 6]"
   ]
  },
  {
   "cell_type": "markdown",
   "metadata": {},
   "source": [
    "##### 3. insert()\n",
    "The `insert()` method allows you to insert an element at a specific index in the list."
   ]
  },
  {
   "cell_type": "code",
   "execution_count": null,
   "metadata": {},
   "outputs": [],
   "source": [
    "my_list = [1, 2, 3]\n",
    "my_list.insert(1, 4)  # Insert 4 at index 1\n",
    "# Now my_list is [1, 4, 2, 3]"
   ]
  },
  {
   "cell_type": "markdown",
   "metadata": {},
   "source": [
    "##### 4. remove()\n",
    "The `remove()` method is used to remove the first occurrence of a specific element from the list."
   ]
  },
  {
   "cell_type": "code",
   "execution_count": null,
   "metadata": {},
   "outputs": [],
   "source": [
    "my_list = [1, 2, 3, 2]\n",
    "my_list.remove(2)  # Removes the first occurrence of 2\n",
    "# Now my_list is [1, 3, 2]"
   ]
  },
  {
   "cell_type": "markdown",
   "metadata": {},
   "source": [
    "##### 5. pop()\n",
    "The `pop()` method is used to remove and return an element at a specific index in the list. If no index is provided, it removes and returns the last element."
   ]
  },
  {
   "cell_type": "code",
   "execution_count": null,
   "metadata": {},
   "outputs": [],
   "source": [
    "my_list = [1, 2, 3]\n",
    "popped_element = my_list.pop(1)  # Remove and return the element at index 1 (2)\n",
    "# Now my_list is [1, 3], and popped_element is 2"
   ]
  },
  {
   "cell_type": "markdown",
   "metadata": {},
   "source": [
    "##### 6. index()\n",
    "The `index()` method returns the index of the first occurrence of a specified element."
   ]
  },
  {
   "cell_type": "code",
   "execution_count": null,
   "metadata": {},
   "outputs": [],
   "source": [
    "my_list = [1, 2, 3, 2]\n",
    "index_of_2 = my_list.index(2)  # Finds the index of the first occurrence of 2\n",
    "# index_of_2 is 1"
   ]
  },
  {
   "cell_type": "markdown",
   "metadata": {},
   "source": [
    "##### 7. count()\n",
    "The `count()` method is used to count the number of occurrences of a specific element in the list."
   ]
  },
  {
   "cell_type": "code",
   "execution_count": null,
   "metadata": {},
   "outputs": [],
   "source": [
    "my_list = [1, 2, 3, 2]\n",
    "count_of_2 = my_list.count(2)  # Counts the occurrences of 2\n",
    "# count_of_2 is 2"
   ]
  },
  {
   "cell_type": "markdown",
   "metadata": {},
   "source": [
    "##### 8. sort()\n",
    "The `sort()` method sorts the list in ascending order. You can also specify additional arguments to customize the sorting behavior."
   ]
  },
  {
   "cell_type": "code",
   "execution_count": null,
   "metadata": {},
   "outputs": [],
   "source": [
    "my_list = [3, 1, 4, 1, 5, 9, 2]\n",
    "my_list.sort()\n",
    "# Now my_list is [1, 1, 2, 3, 4, 5, 9]"
   ]
  },
  {
   "cell_type": "markdown",
   "metadata": {},
   "source": [
    "##### 9. reverse()\n",
    "The `reverse()` method reverses the elements in the list in place."
   ]
  },
  {
   "cell_type": "code",
   "execution_count": null,
   "metadata": {},
   "outputs": [],
   "source": [
    "my_list = [1, 2, 3, 4]\n",
    "my_list.reverse()\n",
    "# Now my_list is [4, 3, 2, 1]"
   ]
  },
  {
   "cell_type": "markdown",
   "metadata": {},
   "source": [
    "##### 10. copy()\n",
    "The `copy()` method creates a shallow copy of the list. Changes to the original list won't affect the copied list, and vice versa."
   ]
  },
  {
   "cell_type": "code",
   "execution_count": null,
   "metadata": {},
   "outputs": [],
   "source": [
    "original_list = [1, 2, 3]\n",
    "copied_list = original_list.copy()"
   ]
  },
  {
   "cell_type": "markdown",
   "metadata": {},
   "source": [
    "- These are essential list methods in Python, and they provide you with powerful tools to manipulate and work with lists efficiently. \n",
    "- Mastering these methods is crucial for effective list manipulation in your Python programs."
   ]
  },
  {
   "cell_type": "markdown",
   "metadata": {},
   "source": [
    "# `Quick Assignment 4:`\n",
    "Instructions:\n",
    "Perform the actions specified below with the given list, and after each action, print the list:\n",
    "1. Add one more favorite food name to the end of the list.\n",
    "1. Insert a new food item into the fourth position of the list.\n",
    "1. Replace the second element of the list with another favorite food name.\n",
    "1. Remove the first element of the list.\n",
    "1. Remove the third element of the list.\n",
    "1. Find the index of any element in the list.\n",
    "1. Print the list in reverse order.\n",
    "1. Optionally, try to use other methods as well."
   ]
  },
  {
   "cell_type": "code",
   "execution_count": null,
   "metadata": {},
   "outputs": [],
   "source": [
    "# Given list of favorite foods\n",
    "favorite_foods = ['pizza', 'sushi', 'burger', 'pasta', 'ice cream']\n",
    "\n",
    "# Your code here\n"
   ]
  },
  {
   "cell_type": "markdown",
   "metadata": {},
   "source": [
    "## Function `len()`\n",
    "The `len()` function is used to find the number of elements in a list."
   ]
  },
  {
   "cell_type": "code",
   "execution_count": null,
   "metadata": {},
   "outputs": [],
   "source": [
    "my_list = [1, 2, 3, 4, 5]\n",
    "length_of_list = len(my_list)  # Find the number of elements in the list\n",
    "# length_of_list is 5"
   ]
  },
  {
   "cell_type": "markdown",
   "metadata": {},
   "source": [
    "You can use `len()` with any iterable, not just lists, to determine their length. This function is particularly useful when you need to iterate over a list or perform operations based on its size."
   ]
  },
  {
   "cell_type": "markdown",
   "metadata": {},
   "source": [
    "# `Quick Assignment 5:`\n",
    "Instructions:\n",
    "1. Check the length of the list."
   ]
  },
  {
   "cell_type": "code",
   "execution_count": null,
   "metadata": {},
   "outputs": [],
   "source": [
    "# Given list of fruits\n",
    "fruits = [\"apple\", \"banana\", \"cherry\", \"date\", \"elderberry\"]\n",
    "\n",
    "# Your code here\n"
   ]
  },
  {
   "cell_type": "markdown",
   "metadata": {},
   "source": [
    "## The `in` keyword in Python\n",
    "used to check if a specified element is present in an iterable, such as a list, tuple, string, or dictionary. It returns True if the element exists in the iterable and False otherwise."
   ]
  },
  {
   "cell_type": "code",
   "execution_count": null,
   "metadata": {},
   "outputs": [],
   "source": [
    "my_list = [1, 2, 3, 4, 5]\n",
    "\n",
    "# Check if an element is in the list\n",
    "result1 = 3 in my_list  # True\n",
    "result2 = 6 in my_list  # False\n",
    "\n",
    "print(result1)\n",
    "print(result2)"
   ]
  },
  {
   "cell_type": "markdown",
   "metadata": {},
   "source": [
    "- In this example, result1 is True because the element 3 is present in my_list, while result2 is False because 6 is not in the list.\n",
    "- You can also use the not in keyword to check if an element is not in an iterable:"
   ]
  },
  {
   "cell_type": "code",
   "execution_count": null,
   "metadata": {},
   "outputs": [],
   "source": [
    "result3 = 3 not in my_list  # False (3 is in the list)\n",
    "result4 = 6 not in my_list  # True (6 is not in the list)"
   ]
  },
  {
   "cell_type": "markdown",
   "metadata": {},
   "source": [
    "- The `in` and `not in` operators are useful for conditionally checking whether an item is part of a collection before performing certain operations on it.\n",
    "- They are commonly used in control structures like `if` statements and loops to make decisions based on the presence or absence of specific values in iterables."
   ]
  },
  {
   "cell_type": "markdown",
   "metadata": {},
   "source": [
    "# `Quick Assignment 6: Check for a Food Product`\n",
    "Instructions:\n",
    "1. Choose a food product not in the list (e.g., \"strawberry\").\n",
    "1. Use the `in` operator to check if the chosen food product is in the list.\n",
    "1. Print the result (either `True` if the product is in the list or `False` if it's not)."
   ]
  },
  {
   "cell_type": "code",
   "execution_count": null,
   "metadata": {},
   "outputs": [],
   "source": [
    "# List of food products\n",
    "food_products = [\"apple\", \"banana\", \"cherry\", \"date\", \"elderberry\"]\n",
    "\n",
    "# Your code here"
   ]
  }
 ],
 "metadata": {
  "kernelspec": {
   "display_name": "Python 3",
   "language": "python",
   "name": "python3"
  },
  "language_info": {
   "codemirror_mode": {
    "name": "ipython",
    "version": 3
   },
   "file_extension": ".py",
   "mimetype": "text/x-python",
   "name": "python",
   "nbconvert_exporter": "python",
   "pygments_lexer": "ipython3",
   "version": "3.10.6"
  },
  "orig_nbformat": 4
 },
 "nbformat": 4,
 "nbformat_minor": 2
}
