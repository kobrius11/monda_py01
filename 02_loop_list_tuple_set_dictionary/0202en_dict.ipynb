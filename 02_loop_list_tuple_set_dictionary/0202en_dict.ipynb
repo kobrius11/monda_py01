{
 "cells": [
  {
   "cell_type": "markdown",
   "metadata": {},
   "source": [
    "# Dictionary\n",
    "\n",
    "A `dictionary` is one of the fundamental data structures in Python, which allows you to store collections of key-value pairs. \n",
    "- In a dictionary, each key is associated with a value, and you can access this value by using the key's name.\n",
    "- In Python, dictionaries are incredibly useful for various tasks, such as storing information, organizing data, and quickly retrieving values associated with specific keys."
   ]
  },
  {
   "cell_type": "markdown",
   "metadata": {},
   "source": [
    "# Creating Dictionaries\n",
    "\n",
    "- Dictionaries in Python can be created using curly braces `{}`. \n",
    "- Each `key` and `value` are separated by `colons`, and multiple key-value pairs are separated by `commas`. For example:"
   ]
  },
  {
   "cell_type": "code",
   "execution_count": null,
   "metadata": {},
   "outputs": [],
   "source": [
    "dictionary = {'key1': 'value1', 'key2': 'value2'}\n",
    "print(dictionary) # {'key1': 'value1', 'key2': 'value2'} "
   ]
  },
  {
   "cell_type": "markdown",
   "metadata": {},
   "source": [
    "# `Quick assignment 1: dictionary creation`\n",
    "\n",
    "Instructions:\n",
    "1. Create a dictionary with at least three pet names and their ages.\n",
    "1. Print the entire dictionary.\n",
    "##### Hint\n",
    "- Use any variable name of your choice."
   ]
  },
  {
   "cell_type": "code",
   "execution_count": null,
   "metadata": {},
   "outputs": [],
   "source": []
  },
  {
   "cell_type": "markdown",
   "metadata": {},
   "source": [
    "# Accessing a Specific Dictionary Entry\n",
    "\n",
    "To access a specific entry in a dictionary, you need to simply specify the key within square `[]` brackets:"
   ]
  },
  {
   "cell_type": "code",
   "execution_count": null,
   "metadata": {},
   "outputs": [],
   "source": [
    "people = {'John': 24, 'Peter': 32}\n",
    "print(people['Peter']) # 32\n",
    "print(people['John']) # 24"
   ]
  },
  {
   "cell_type": "markdown",
   "metadata": {},
   "source": [
    "# `Quick assignment 2: Accessing a Specific Dictionary Entry`\n",
    "\n",
    "Instructions:\n",
    "1. Print the age of any pet from the dictionary created in Quick Assignment 1."
   ]
  },
  {
   "cell_type": "code",
   "execution_count": null,
   "metadata": {},
   "outputs": [],
   "source": []
  },
  {
   "cell_type": "markdown",
   "metadata": {},
   "source": [
    "# Adding an Entry to the Dictionary\n",
    "\n",
    "- You can add an entry to a dictionary using the simple assignment operator `=`, \n",
    "- specifying the key within square `[]` brackets after the dictionary variable name. For example:"
   ]
  },
  {
   "cell_type": "code",
   "execution_count": null,
   "metadata": {},
   "outputs": [],
   "source": [
    "people = {'John': 24, 'Peter': 32}\n",
    "people['Anna'] = 28\n",
    "print(people) # {'John': 24, 'Peter': 32, 'Anna': 28}"
   ]
  },
  {
   "cell_type": "markdown",
   "metadata": {},
   "source": [
    "# `Quick assignment 3: Adding an Entry to the Dictionary`\n",
    "\n",
    "Instructions:\n",
    "1. Add a new pet to the dictionary created in Quick Assignment 1.\n",
    "2. Print the updated dictionary."
   ]
  },
  {
   "cell_type": "code",
   "execution_count": null,
   "metadata": {},
   "outputs": [],
   "source": []
  },
  {
   "cell_type": "markdown",
   "metadata": {},
   "source": [
    "# Changing a Specific Dictionary Entry\n",
    "\n",
    "To change a dictionary entry, you need to specify the existing key within square brackets `[]` after the dictionary variable name and assign a new value to it:"
   ]
  },
  {
   "cell_type": "code",
   "execution_count": null,
   "metadata": {},
   "outputs": [],
   "source": [
    "people = {'John': 24, 'Peter': 32, 'Anna': 28}\n",
    "people['Peter'] = 33\n",
    "print(people) # {'John': 24, 'Peter': 33, 'Anna': 28}"
   ]
  },
  {
   "cell_type": "markdown",
   "metadata": {},
   "source": [
    "# `Quick assignment 4: Changing a Specific Dictionary Entry`\n",
    "Instructions:\n",
    "1. Change the age of any pet from created dictionary in quick assignment 1.\n",
    "1. Print the updated dictionary."
   ]
  },
  {
   "cell_type": "markdown",
   "metadata": {},
   "source": [
    "# Deleting a Specific Dictionary Entry\n",
    "\n",
    "To delete a dictionary entry, you can use the `del` command followed by the dictionary variable `name` and the `key` in square brackets whose value you want to remove from the dictionary."
   ]
  },
  {
   "cell_type": "code",
   "execution_count": null,
   "metadata": {},
   "outputs": [],
   "source": [
    "people = {'John': 24, 'Peter': 32, 'Anna': 28}\n",
    "del people['Anna']\n",
    "print(people) # {'John': 24, 'Peter': 32}"
   ]
  },
  {
   "cell_type": "markdown",
   "metadata": {},
   "source": [
    "# `Quick Assignment 5: Deleting a Specific Dictionary Entry`\n",
    "\n",
    "\n",
    "#### Now, let's practice quickly deleting dictionary entries:\n",
    "Instructions:\n",
    "1. Use the `del` command to remove one of the pets and its quantity from created dictionary in quick assignment 1.\n",
    "2. Print the `pets` dictionary again to see the result."
   ]
  },
  {
   "cell_type": "code",
   "execution_count": null,
   "metadata": {},
   "outputs": [],
   "source": []
  },
  {
   "cell_type": "markdown",
   "metadata": {},
   "source": [
    "# Dictionary Methods\n",
    "\n",
    "Dictionary methods allow you to perform actions on dictionaries and manipulate their content. Here are some of the most commonly used methods:\n",
    "- `.keys()` - Returns all the keys in the dictionary."
   ]
  },
  {
   "cell_type": "code",
   "execution_count": null,
   "metadata": {},
   "outputs": [],
   "source": [
    "dictionary = {'John': 24, 'Peter': 32, 'Anna': 28}\n",
    "keys = dictionary.keys()\n",
    "print(keys) # dict_keys(['John', 'Peter', 'Anna'])"
   ]
  },
  {
   "cell_type": "markdown",
   "metadata": {},
   "source": [
    "- `.values()` - Returns all the values in the dictionary."
   ]
  },
  {
   "cell_type": "code",
   "execution_count": null,
   "metadata": {},
   "outputs": [],
   "source": [
    "dictionary = {'John': 24, 'Peter': 32, 'Anna': 28}\n",
    "values = dictionary.values()\n",
    "print(values) # dict_values([24, 32, 28])"
   ]
  },
  {
   "cell_type": "markdown",
   "metadata": {},
   "source": [
    "- `.items()` - Returns a list of all key-value pairs in the dictionary."
   ]
  },
  {
   "cell_type": "code",
   "execution_count": null,
   "metadata": {},
   "outputs": [],
   "source": [
    "dictionary = {'John': 24, 'Peter': 32, 'Anna': 28}\n",
    "items = dictionary.items()\n",
    "print(items) # dict_items([('John', 24), ('Peter', 32), ('Anna', 28)])"
   ]
  },
  {
   "cell_type": "markdown",
   "metadata": {},
   "source": [
    "- `.get()` - Returns the value corresponding to the specified key. \n",
    "##### If the key is not found, it can return a default value (specified as a separate argument) or None."
   ]
  },
  {
   "cell_type": "code",
   "execution_count": null,
   "metadata": {},
   "outputs": [],
   "source": [
    "dictionary = {'John': 24, 'Peter': 32, 'Anna': 28}\n",
    "value = dictionary.get('John')\n",
    "print(value) # 24\n",
    "print(dictionary.get('Joseph', 0)) # 0\n",
    "print(dictionary.get('Joseph')) # None"
   ]
  },
  {
   "cell_type": "markdown",
   "metadata": {},
   "source": [
    "- `.pop()` - Removes and returns the value associated with the specified key. If the key is not found, it can return a default value (specified as a separate argument) or raise an error."
   ]
  },
  {
   "cell_type": "code",
   "execution_count": null,
   "metadata": {},
   "outputs": [],
   "source": [
    "dictionary = {'John': 24, 'Peter': 32, 'Anna': 28}\n",
    "value = dictionary.pop('Peter')\n",
    "print(value) # 32\n",
    "not_found = dictionary.pop('Joseph', 0) \n",
    "print(not_found) # 0\n",
    "print(dictionary) # {'Jonas': 24, 'Anna': 28}"
   ]
  },
  {
   "cell_type": "markdown",
   "metadata": {},
   "source": [
    "- `.clear()` - Clears the content of the dictionary, making it an empty dictionary."
   ]
  },
  {
   "cell_type": "code",
   "execution_count": null,
   "metadata": {},
   "outputs": [],
   "source": [
    "dictionary = {'John': 24, 'Peter': 32, 'Anna': 28}\n",
    "dictionary.clear()\n",
    "print(dictionary) # {}"
   ]
  },
  {
   "cell_type": "markdown",
   "metadata": {},
   "source": [
    "# `Quick Assignment 6: Methods`\n",
    "\n",
    "Now, let's practice using these dictionary methods:\n",
    "\n",
    "1. Print the values of the pets dictionary.\n",
    "2. Use the .items() method to print a `list` of all key-value pairs in the pets dictionary.\n",
    "3. Use the .get() method to `retrieve` the age of one pet, providing a default value if the pet is not found.\n",
    "4. Use the .pop() method to `remove` one pet and their age from the dictionary.\n",
    "5. `Clear` the content of the `pets` dictionary using the `.clear()` method and print the empty dictionary."
   ]
  },
  {
   "cell_type": "code",
   "execution_count": null,
   "metadata": {},
   "outputs": [],
   "source": []
  },
  {
   "cell_type": "markdown",
   "metadata": {},
   "source": [
    "# `Bonus Task`\n",
    "\n",
    "1. Create an empty dictionary named \"cars\" and add information about three different cars to the dictionary. Don't hesitate to use your creativity and include various brands, models, years, colors, and engine types.\n",
    "1. Display the information about one of the cars from the dictionary.\n",
    "1. Modify the information about one car (for example, change the engine type).\n",
    "1. Add a new car to the dictionary.\n",
    "1. Remove information about one car from the dictionary.\n",
    "1. Display the total number of cars in the dictionary.\n",
    "1. Check if a specific car is in the dictionary.\n",
    "1. Clear the dictionary. "
   ]
  },
  {
   "cell_type": "code",
   "execution_count": null,
   "metadata": {},
   "outputs": [],
   "source": []
  }
 ],
 "metadata": {
  "kernelspec": {
   "display_name": "Python 3",
   "language": "python",
   "name": "python3"
  },
  "language_info": {
   "codemirror_mode": {
    "name": "ipython",
    "version": 3
   },
   "file_extension": ".py",
   "mimetype": "text/x-python",
   "name": "python",
   "nbconvert_exporter": "python",
   "pygments_lexer": "ipython3",
   "version": "3.10.6"
  },
  "orig_nbformat": 4
 },
 "nbformat": 4,
 "nbformat_minor": 2
}
