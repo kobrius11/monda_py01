{
 "cells": [
  {
   "cell_type": "markdown",
   "metadata": {},
   "source": [
    "# `Bonus Assignment: Tuple Manipulation`"
   ]
  },
  {
   "cell_type": "code",
   "execution_count": null,
   "metadata": {},
   "outputs": [],
   "source": [
    "# Create the original tuple\n",
    "original_tuple = (1, 'two', 3.0, [4, 5], True)\n",
    "\n",
    "# Convert the original tuple to a list\n",
    "modified_list = list(original_tuple)\n",
    "\n",
    "# Remove the first and last elements from the list\n",
    "modified_list.pop(0)\n",
    "modified_list.pop()\n",
    "\n",
    "# Convert the modified list back to a tuple\n",
    "new_tuple = tuple(modified_list)\n",
    "\n",
    "# Calculate the number of elements removed\n",
    "elements_removed = len(original_tuple) - len(new_tuple)\n",
    "\n",
    "# Create a numeric_tuple containing only numeric values\n",
    "numeric_tuple = tuple(item for item in original_tuple if isinstance(item, (int, float)))\n",
    "\n",
    "# Calculate the sum of numeric values in numeric_tuple\n",
    "numeric_sum = sum(numeric_tuple)\n",
    "\n",
    "# Create a string_length_tuple containing the lengths of strings in the original_tuple\n",
    "string_length_tuple = tuple(len(str(item)) for item in original_tuple if isinstance(item, str))\n",
    "\n",
    "# Create a dictionary to store the results\n",
    "data_dict = {\n",
    "    \"original_tuple\": original_tuple,\n",
    "    \"modified_list\": modified_list,\n",
    "    \"new_tuple\": new_tuple,\n",
    "    \"numeric_tuple\": numeric_tuple,\n",
    "    \"string_length_tuple\": string_length_tuple\n",
    "}\n",
    "\n",
    "# Print the results\n",
    "print(\"Original Tuple:\", data_dict[\"original_tuple\"])\n",
    "print(\"Modified List:\", data_dict[\"modified_list\"])\n",
    "print(\"New Tuple:\", data_dict[\"new_tuple\"])\n",
    "print(\"Number of Elements Removed:\", elements_removed)\n",
    "print(\"Numeric Tuple:\", data_dict[\"numeric_tuple\"])\n",
    "print(\"Sum of Numeric Values:\", numeric_sum)\n",
    "print(\"String Length Tuple:\", data_dict[\"string_length_tuple\"])\n",
    "print(\"Data Dictionary:\", data_dict)\n"
   ]
  }
 ],
 "metadata": {
  "language_info": {
   "name": "python"
  },
  "orig_nbformat": 4
 },
 "nbformat": 4,
 "nbformat_minor": 2
}
